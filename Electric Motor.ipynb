{
 "cells": [
  {
   "cell_type": "markdown",
   "id": "17d6a5e1",
   "metadata": {},
   "source": [
    "# Retrieve dataset from HDFS"
   ]
  },
  {
   "cell_type": "code",
   "execution_count": 68,
   "id": "ae80db4b",
   "metadata": {},
   "outputs": [
    {
     "name": "stdout",
     "output_type": "stream",
     "text": [
      "+-----------+---------+--------------+-----------+------------+------------+------------+-------------+---------+-----------+---------+----------+----------+\n",
      "|        u_q|  coolant|stator_winding|        u_d|stator_tooth| motor_speed|         i_d|          i_q|       pm|stator_yoke|  ambient|    torque|profile_id|\n",
      "+-----------+---------+--------------+-----------+------------+------------+------------+-------------+---------+-----------+---------+----------+----------+\n",
      "| -0.4506815|18.805172|      19.08667| -0.3500546|   18.293219|0.0028655678| 0.004419137| 3.2810218E-4|24.554214|  18.316547| 19.85069| 0.1871008|      17.0|\n",
      "|  -0.325737|18.818571|      19.09239|  -0.305803|   18.294807|2.5678167E-4|6.0587237E-4|-7.8535266E-4|24.538078|  18.314955|19.850672|0.24541749|      17.0|\n",
      "|-0.44086403| 18.82877|      19.08938|-0.37250262|   18.294094|0.0023549714|0.0012895871|  3.864682E-4|24.544693|  18.326307|19.850657|0.17661534|      17.0|\n",
      "|-0.32702568|18.835567|      19.08303| -0.3161987|   18.292542| 0.006104666|2.5584326E-5|  0.002045661|24.554018|  18.330833|19.850647|0.23830271|      17.0|\n",
      "|-0.47115013|18.857033|     19.082525|-0.33227214|   18.291428| 0.003132823| -0.06431678|  0.037183776|24.565397|  18.326662| 19.85064|0.20819665|      17.0|\n",
      "+-----------+---------+--------------+-----------+------------+------------+------------+-------------+---------+-----------+---------+----------+----------+\n",
      "only showing top 5 rows\n",
      "\n"
     ]
    }
   ],
   "source": [
    "import pyspark \n",
    "from pyspark.sql import SparkSession\n",
    "from pyspark.sql.types import StructType,StructField,FloatType\n",
    "\n",
    "import numpy as np\n",
    "import pandas as pd \n",
    "\n",
    "spark = SparkSession.builder.master(\"local\").appName(\"hdfs_test\").getOrCreate()\n",
    "core_site = \"hdfs://localhost:9000/\"\n",
    "data_fold = \"electric_motor/measures.csv\"\n",
    "\n",
    "\n",
    "elec_schema = StructType([ \\\n",
    "    StructField(\"u_q\",FloatType(),True), \\\n",
    "    StructField(\"coolant\",FloatType(),True), \\\n",
    "    StructField(\"stator_winding\",FloatType(),True), \\\n",
    "    StructField(\"u_d\", FloatType(), True), \\\n",
    "    StructField(\"stator_tooth\", FloatType(), True), \\\n",
    "    StructField(\"motor_speed\", FloatType(), True), \\\n",
    "    StructField(\"i_d\", FloatType(), True), \\\n",
    "    StructField(\"i_q\", FloatType(), True), \\\n",
    "    StructField(\"pm\", FloatType(), True), \\\n",
    "    StructField(\"stator_yoke\", FloatType(), True), \\\n",
    "    StructField(\"ambient\", FloatType(), True), \\\n",
    "    StructField(\"torque\", FloatType(), True), \\\n",
    "    StructField(\"profile_id\", FloatType(), True) \n",
    "  ])\n",
    "\n",
    "elec_data=spark.read.csv(core_site+data_fold,schema=elec_schema)\n",
    "elec_data.show(5)"
   ]
  },
  {
   "cell_type": "markdown",
   "id": "3ae6ec06",
   "metadata": {},
   "source": [
    "# Train test split data"
   ]
  },
  {
   "cell_type": "code",
   "execution_count": 69,
   "id": "efd00c69",
   "metadata": {},
   "outputs": [],
   "source": [
    "from sklearn.preprocessing import StandardScaler \n",
    "from sklearn.model_selection import train_test_split\n",
    "from sklearn.metrics import r2_score \n",
    "\n",
    "target_cols = ('pm','torque')\n",
    "x = elec_data.drop('pm','torque').toPandas()\n",
    "y = elec_data.select('pm','torque').toPandas()\n",
    "\n",
    "x_train,x_test,y_train,y_test = train_test_split(x,y,train_size=0.8,random_state=42)"
   ]
  },
  {
   "cell_type": "markdown",
   "id": "6c01f9d3",
   "metadata": {},
   "source": [
    "# Model building & training"
   ]
  },
  {
   "cell_type": "code",
   "execution_count": null,
   "id": "07b12ffc",
   "metadata": {},
   "outputs": [],
   "source": [
    "import tensorflow as tf\n",
    "import tensorflow.keras as keras\n",
    "from tensorflow.keras.layers import Input,Dense\n",
    "from tensorflow.keras.models import Sequential, Model\n",
    "from tensorflow.keras.regularizers import l1,l2\n",
    "\n",
    "def create_model(name):\n",
    "    layer_neurons = [64,32]\n",
    "\n",
    "    ip = Input( shape=(11) )\n",
    "    dense = Dense(128, activation='relu') (ip)\n",
    "    for n in layer_neurons:\n",
    "        dense = Dense(n, activation='relu',kernel_regularizer=l1()) (dense)\n",
    "\n",
    "    op = Dense(1,activation='linear',name='pm') (dense)\n",
    "    \n",
    "    model = Model(inputs=ip,outputs=op,name=name)\n",
    "\n",
    "    model.compile(loss='mean_squared_error', optimizer='adam')\n",
    "\n",
    "    return model "
   ]
  },
  {
   "cell_type": "markdown",
   "id": "c60b14e6",
   "metadata": {},
   "source": [
    "Model for rotor temperature"
   ]
  },
  {
   "cell_type": "code",
   "execution_count": null,
   "id": "991d69a1",
   "metadata": {
    "scrolled": false
   },
   "outputs": [],
   "source": [
    "pm_model = create_model(\"pm\")\n",
    "pm_model.summary()\n",
    "pm_model.fit(x_train,y_train['pm'],epochs=1,verbose=1,validation_split=0.2)"
   ]
  },
  {
   "cell_type": "markdown",
   "id": "fa9133d1",
   "metadata": {},
   "source": [
    "Model for rotor torque"
   ]
  },
  {
   "cell_type": "code",
   "execution_count": null,
   "id": "f576e4af",
   "metadata": {},
   "outputs": [],
   "source": [
    "torque_model = create_model(\"torque\")\n",
    "torque_model.summary() \n",
    "torque_model.fit(x_train,y_train['torque'],epochs=1,verbose=1,validation_split=0.2) "
   ]
  },
  {
   "cell_type": "markdown",
   "id": "8f8b6a04",
   "metadata": {},
   "source": [
    "# Getting inferences & printing final results"
   ]
  },
  {
   "cell_type": "code",
   "execution_count": null,
   "id": "3c731c41",
   "metadata": {
    "scrolled": false
   },
   "outputs": [],
   "source": [
    "y_pm_pred_test = pm_model.predict(x_test) \n",
    "print('R2 score: ',r2_score( y_test['pm'].values, y_pm_pred_test ) ) "
   ]
  },
  {
   "cell_type": "code",
   "execution_count": null,
   "id": "72d4dbbf",
   "metadata": {},
   "outputs": [],
   "source": [
    "y_torque_pred_test = torque_model.predict(x_test)\n",
    "print('R2 score: ',r2_score( y_test['pm'].values, y_torque_pred_test ) )"
   ]
  },
  {
   "cell_type": "markdown",
   "id": "f3e7d943",
   "metadata": {},
   "source": [
    "# Saving inferences"
   ]
  },
  {
   "cell_type": "code",
   "execution_count": null,
   "id": "7832035d",
   "metadata": {},
   "outputs": [],
   "source": [
    "TRAIN_CSV_PATH = \"/home/hdoop/electric_motor/elec_train.csv\"\n",
    "TEST_CSV_PATH = \"/home/hdoop/electric_motor/elec_test.csv\"\n",
    "\n",
    "pred_df = pd.DataFrame({\"pm_pred\":y_pm_pred_test,\"torque_test\":y_torque_pred_test})\n",
    "test_df = pd.concat([x_test,y_test,pred_df],axis=1)\n",
    "test_df.to_csv(TEST_CSV_PATH,index=False) "
   ]
  },
  {
   "cell_type": "markdown",
   "id": "2ec615f2",
   "metadata": {},
   "source": [
    "# Saving weights & plotting model"
   ]
  },
  {
   "cell_type": "code",
   "execution_count": null,
   "id": "e359a921",
   "metadata": {},
   "outputs": [],
   "source": [
    "pm_model.save(\"/home/hdoop/electric_motor/pm_model.h5\")\n",
    "tf.keras.utils.plot_model(pm_model,show_shapes=True) "
   ]
  },
  {
   "cell_type": "code",
   "execution_count": null,
   "id": "ab87a925",
   "metadata": {},
   "outputs": [],
   "source": [
    "torque_model.save(\"/home/hdoop/electric_motor/torque_model.h5\")\n",
    "tf.keras.utils.plot_model(torque_model,show_shapes=True) "
   ]
  }
 ],
 "metadata": {
  "kernelspec": {
   "display_name": "Python 3",
   "language": "python",
   "name": "python3"
  },
  "language_info": {
   "codemirror_mode": {
    "name": "ipython",
    "version": 3
   },
   "file_extension": ".py",
   "mimetype": "text/x-python",
   "name": "python",
   "nbconvert_exporter": "python",
   "pygments_lexer": "ipython3",
   "version": "3.6.9"
  }
 },
 "nbformat": 4,
 "nbformat_minor": 5
}
